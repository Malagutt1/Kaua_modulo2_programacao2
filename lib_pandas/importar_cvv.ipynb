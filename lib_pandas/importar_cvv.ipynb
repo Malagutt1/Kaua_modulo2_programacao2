{
 "cells": [
  {
   "cell_type": "code",
   "execution_count": null,
   "metadata": {},
   "outputs": [],
   "source": [
    "import pandas as pd \n",
    "import os\n",
    "prod = \"dados/produtos.csv\""
   ]
  }
 ],
 "metadata": {
  "kernelspec": {
   "display_name": "Python 3.8.6 64-bit",
   "language": "python",
   "name": "python3"
  },
  "language_info": {
   "name": "python",
   "version": "3.8.6"
  },
  "orig_nbformat": 4,
  "vscode": {
   "interpreter": {
    "hash": "c5a41a991e20e0a8b70d302d7113550a9cc3c567446b5421a5ab04272d1c42ab"
   }
  }
 },
 "nbformat": 4,
 "nbformat_minor": 2
}
