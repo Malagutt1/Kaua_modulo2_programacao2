{
 "cells": [
  {
   "cell_type": "code",
   "execution_count": 86,
   "metadata": {},
   "outputs": [],
   "source": [
    "import pandas as pd\n",
    "df_produtos = pd.read_csv(r\"dados\\produtos.csv\")"
   ]
  },
  {
   "cell_type": "code",
   "execution_count": 87,
   "metadata": {},
   "outputs": [],
   "source": [
    "df_produtos[\"Quantidade\"]    = pd.to_numeric(df_produtos[\"Quantidade\"])\n",
    "df_produtos[\"Preço\"]         = pd.to_numeric(df_produtos[\"Preço\"])"
   ]
  },
  {
   "cell_type": "markdown",
   "metadata": {},
   "source": [
    "AGRUPAR POR COLUNAS SQL"
   ]
  },
  {
   "cell_type": "code",
   "execution_count": 88,
   "metadata": {},
   "outputs": [
    {
     "data": {
      "text/plain": [
       "Categoria\n",
       "Acessórios     81\n",
       "Calçados       46\n",
       "Roupas        163\n",
       "Name: Quantidade, dtype: int64"
      ]
     },
     "execution_count": 88,
     "metadata": {},
     "output_type": "execute_result"
    }
   ],
   "source": [
    "vendas_cetegorias = df_produtos.groupby(\"Categoria\") [\"Quantidade\"].sum()\n",
    "vendas_cetegorias"
   ]
  },
  {
   "cell_type": "code",
   "execution_count": 89,
   "metadata": {},
   "outputs": [
    {
     "data": {
      "text/plain": [
       "'Brinco'"
      ]
     },
     "execution_count": 89,
     "metadata": {},
     "output_type": "execute_result"
    }
   ],
   "source": [
    "prod_mais_vendidos = df_produtos.groupby(\"Produto\")[\"Quantidade\"].sum().idxmax()\n",
    "prod_mais_vendidos"
   ]
  },
  {
   "cell_type": "code",
   "execution_count": 90,
   "metadata": {},
   "outputs": [
    {
     "data": {
      "text/plain": [
       "Produto\n",
       "Brinco        30\n",
       "Camiseta      30\n",
       "Sandália      25\n",
       "Cinto         22\n",
       "Saia          20\n",
       "Shorts        19\n",
       "Bermuda       18\n",
       "Calça         15\n",
       "Mochila       15\n",
       "Blusa         14\n",
       "Vestido       12\n",
       "Saia longa    11\n",
       "Óculos        10\n",
       "Camisa        10\n",
       "Suéter         9\n",
       "Tênis          8\n",
       "Sapato         7\n",
       "Botas          6\n",
       "Jaqueta        5\n",
       "Relógio        4\n",
       "Name: Quantidade, dtype: int64"
      ]
     },
     "execution_count": 90,
     "metadata": {},
     "output_type": "execute_result"
    }
   ],
   "source": [
    "prod_mais_vendidos = df_produtos.groupby(\"Produto\")[\"Quantidade\"].sum().sort_values(ascending=False)\n",
    "prod_mais_vendidos\n"
   ]
  },
  {
   "cell_type": "code",
   "execution_count": 91,
   "metadata": {},
   "outputs": [
    {
     "data": {
      "text/plain": [
       "Produto\n",
       "Bermuda        60.0\n",
       "Blusa          55.0\n",
       "Botas         180.0\n",
       "Brinco         35.0\n",
       "Calça         100.0\n",
       "Camisa         50.0\n",
       "Camiseta       45.0\n",
       "Cinto          40.0\n",
       "Jaqueta       120.0\n",
       "Mochila        70.0\n",
       "Relógio       250.0\n",
       "Saia           80.0\n",
       "Saia longa     75.0\n",
       "Sandália       70.0\n",
       "Sapato        150.0\n",
       "Shorts         65.0\n",
       "Suéter         95.0\n",
       "Tênis         200.0\n",
       "Vestido        90.0\n",
       "Óculos        120.0\n",
       "Name: Preço, dtype: float64"
      ]
     },
     "execution_count": 91,
     "metadata": {},
     "output_type": "execute_result"
    }
   ],
   "source": [
    "media_preco = df_produtos.groupby(\"Produto\")[\"Preço\"].mean()\n",
    "media_preco"
   ]
  },
  {
   "cell_type": "code",
   "execution_count": 92,
   "metadata": {},
   "outputs": [
    {
     "data": {
      "text/plain": [
       "-0.7228821786680254"
      ]
     },
     "execution_count": 92,
     "metadata": {},
     "output_type": "execute_result"
    }
   ],
   "source": [
    "#Correlação entre unidades venduas e preço unitario \n",
    "correlacao = df_produtos[\"Quantidade\"].corr(df_produtos[\"Preço\"])\n",
    "correlacao"
   ]
  },
  {
   "cell_type": "code",
   "execution_count": 94,
   "metadata": {},
   "outputs": [],
   "source": [
    "vendas_cetegorias_df = vendas_cetegorias.reset_index()\n",
    "vendas_cetegorias_df.columns = [\"Categorias\", \"Unidades_Vendidas\"]\n",
    "vendas_cetegorias_df.to_csv(r\"dados/vendas_categorias.csv\", index=False)"
   ]
  }
 ],
 "metadata": {
  "kernelspec": {
   "display_name": "Python 3.8.6 64-bit",
   "language": "python",
   "name": "python3"
  },
  "language_info": {
   "codemirror_mode": {
    "name": "ipython",
    "version": 3
   },
   "file_extension": ".py",
   "mimetype": "text/x-python",
   "name": "python",
   "nbconvert_exporter": "python",
   "pygments_lexer": "ipython3",
   "version": "3.8.6"
  },
  "orig_nbformat": 4,
  "vscode": {
   "interpreter": {
    "hash": "c5a41a991e20e0a8b70d302d7113550a9cc3c567446b5421a5ab04272d1c42ab"
   }
  }
 },
 "nbformat": 4,
 "nbformat_minor": 2
}
